{
 "metadata": {
  "language_info": {
   "codemirror_mode": {
    "name": "ipython",
    "version": 3
   },
   "file_extension": ".py",
   "mimetype": "text/x-python",
   "name": "python",
   "nbconvert_exporter": "python",
   "pygments_lexer": "ipython3",
   "version": "3.7.7-final"
  },
  "orig_nbformat": 2,
  "kernelspec": {
   "name": "python_defaultSpec_1598887612619",
   "display_name": "Python 3.7.7 64-bit ('base': conda)"
  }
 },
 "nbformat": 4,
 "nbformat_minor": 2,
 "cells": [
  {
   "cell_type": "code",
   "execution_count": 5,
   "metadata": {},
   "outputs": [],
   "source": [
    "%config IPCompleter.greedy=True\n",
    "%matplotlib inline"
   ]
  },
  {
   "cell_type": "code",
   "execution_count": 6,
   "metadata": {},
   "outputs": [],
   "source": [
    "# Dependencies\n",
    "import numpy as np\n",
    "import pandas as pd\n",
    "import matplotlib as plt"
   ]
  },
  {
   "cell_type": "code",
   "execution_count": 9,
   "metadata": {},
   "outputs": [],
   "source": [
    "departments_df = pd.read_csv(\"./analysis-projects/pewlett-hackard-analysis/data/departments.csv\")\n",
    "dept_emp_df = pd.read_csv(\"./analysis-projects/pewlett-hackard-analysis/data/dept_emp.csv\")\n",
    "dept_managers_df = pd.read_csv(\"./analysis-projects/pewlett-hackard-analysis/data/dept_manager.csv\")\n",
    "employees_df = pd.read_csv(\"./analysis-projects/pewlett-hackard-analysis/data/employees.csv\")\n",
    "salaries_df = pd.read_csv(\"./analysis-projects/pewlett-hackard-analysis/data/salaries.csv\")\n",
    "titles_df = pd.read_csv(\"./analysis-projects/pewlett-hackard-analysis/data/titles.csv\")"
   ]
  },
  {
   "cell_type": "code",
   "execution_count": null,
   "metadata": {},
   "outputs": [],
   "source": [
    "from config import database_secrets\n",
    "# SQL Alchemy\n",
    "from sqlalchemy import create_engine\n",
    "\n",
    "# Config file format:\n",
    "# Postgres username, password, and database name\n",
    "# Finding the connection info, in the terminal jump to psql and run \\conninfo\n",
    "# POSTGRES_ADDRESS = 'localhost' ## INSERT YOUR DB ADDRESS IS LOCALHOST\n",
    "# POSTGRES_PORT = '' ## PORT NUMBER\n",
    "# POSTGRES_USERNAME = ''     ## CHANGE THIS TO YOUR POSTGRES USERNAME\n",
    "# POSTGRES_PASSWORD = '' ## CHANGE THIS TO YOUR POSTGRES PASSWORD\n",
    "# POSTGRES_DBNAME = '' ## CHANGE THIS TO YOUR DATABASE NAME\n",
    "\n",
    "# A long string that contains the necessary Postgres login information\n",
    "postgres_str = ('postgresql://{username}:{password}@{ipaddress}:{port}/{dbname}'.format(username=POSTGRES_USERNAME, \n",
    "                        password=POSTGRES_PASSWORD,\n",
    "                        ipaddress=POSTGRES_ADDRESS,\n",
    "                        port=POSTGRES_PORT,\n",
    "                        dbname=POSTGRES_DBNAME))\n",
    "\n",
    "# Create the connection\n",
    "cnx = create_engine(postgres_str)"
   ]
  },
  {
   "cell_type": "code",
   "execution_count": null,
   "metadata": {},
   "outputs": [],
   "source": [
    "# Pandas Connections to Postgres\n",
    "employees_data = pd.read_sql(\"SELECT * FROM Employees\", cnx)\n",
    "salary_data = pd.read_sql(\"SELECT * FROM Salaries\", cnx)\n",
    "title_data = pd.read_sql(\"SELECT * FROM Titles\", cnx)"
   ]
  }
 ]
}