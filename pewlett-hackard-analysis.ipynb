{
 "metadata": {
  "language_info": {
   "codemirror_mode": {
    "name": "ipython",
    "version": 3
   },
   "file_extension": ".py",
   "mimetype": "text/x-python",
   "name": "python",
   "nbconvert_exporter": "python",
   "pygments_lexer": "ipython3",
   "version": "3.7.7-final"
  },
  "orig_nbformat": 2,
  "kernelspec": {
   "name": "python_defaultSpec_1599436578969",
   "display_name": "Python 3.7.7 64-bit ('base': conda)"
  }
 },
 "nbformat": 4,
 "nbformat_minor": 2,
 "cells": [
  {
   "cell_type": "code",
   "execution_count": 1,
   "metadata": {},
   "outputs": [],
   "source": [
    "%config IPCompleter.greedy=True\n",
    "%matplotlib inline"
   ]
  },
  {
   "cell_type": "code",
   "execution_count": 2,
   "metadata": {},
   "outputs": [],
   "source": [
    "# Dependencies\n",
    "import numpy as np\n",
    "import pandas as pd\n",
    "import matplotlib as plt"
   ]
  },
  {
   "cell_type": "code",
   "execution_count": 3,
   "metadata": {},
   "outputs": [
    {
     "output_type": "execute_result",
     "data": {
      "text/plain": "  dept_no           dept_name\n0    d001           Marketing\n1    d002             Finance\n2    d003     Human Resources\n3    d004          Production\n4    d005         Development\n5    d006  Quality Management\n6    d007               Sales\n7    d008            Research\n8    d009    Customer Service",
      "text/html": "<div>\n<style scoped>\n    .dataframe tbody tr th:only-of-type {\n        vertical-align: middle;\n    }\n\n    .dataframe tbody tr th {\n        vertical-align: top;\n    }\n\n    .dataframe thead th {\n        text-align: right;\n    }\n</style>\n<table border=\"1\" class=\"dataframe\">\n  <thead>\n    <tr style=\"text-align: right;\">\n      <th></th>\n      <th>dept_no</th>\n      <th>dept_name</th>\n    </tr>\n  </thead>\n  <tbody>\n    <tr>\n      <th>0</th>\n      <td>d001</td>\n      <td>Marketing</td>\n    </tr>\n    <tr>\n      <th>1</th>\n      <td>d002</td>\n      <td>Finance</td>\n    </tr>\n    <tr>\n      <th>2</th>\n      <td>d003</td>\n      <td>Human Resources</td>\n    </tr>\n    <tr>\n      <th>3</th>\n      <td>d004</td>\n      <td>Production</td>\n    </tr>\n    <tr>\n      <th>4</th>\n      <td>d005</td>\n      <td>Development</td>\n    </tr>\n    <tr>\n      <th>5</th>\n      <td>d006</td>\n      <td>Quality Management</td>\n    </tr>\n    <tr>\n      <th>6</th>\n      <td>d007</td>\n      <td>Sales</td>\n    </tr>\n    <tr>\n      <th>7</th>\n      <td>d008</td>\n      <td>Research</td>\n    </tr>\n    <tr>\n      <th>8</th>\n      <td>d009</td>\n      <td>Customer Service</td>\n    </tr>\n  </tbody>\n</table>\n</div>"
     },
     "metadata": {},
     "execution_count": 3
    }
   ],
   "source": [
    "departments_df = pd.read_csv(\"./analysis-projects/pewlett-hackard-analysis/data/departments.csv\")\n",
    "departments_df"
   ]
  },
  {
   "cell_type": "code",
   "execution_count": 4,
   "metadata": {},
   "outputs": [
    {
     "output_type": "execute_result",
     "data": {
      "text/plain": "        emp_no dept_no   from_date     to_date\n0        10001    d005  1986-06-26  9999-01-01\n1        10002    d007  1996-08-03  9999-01-01\n2        10003    d004  1995-12-03  9999-01-01\n3        10004    d004  1986-12-01  9999-01-01\n4        10005    d003  1989-09-12  9999-01-01\n...        ...     ...         ...         ...\n331598  499995    d004  1997-06-02  9999-01-01\n331599  499996    d004  1996-05-13  9999-01-01\n331600  499997    d005  1987-08-30  9999-01-01\n331601  499998    d002  1993-12-27  9999-01-01\n331602  499999    d004  1997-11-30  9999-01-01\n\n[331603 rows x 4 columns]",
      "text/html": "<div>\n<style scoped>\n    .dataframe tbody tr th:only-of-type {\n        vertical-align: middle;\n    }\n\n    .dataframe tbody tr th {\n        vertical-align: top;\n    }\n\n    .dataframe thead th {\n        text-align: right;\n    }\n</style>\n<table border=\"1\" class=\"dataframe\">\n  <thead>\n    <tr style=\"text-align: right;\">\n      <th></th>\n      <th>emp_no</th>\n      <th>dept_no</th>\n      <th>from_date</th>\n      <th>to_date</th>\n    </tr>\n  </thead>\n  <tbody>\n    <tr>\n      <th>0</th>\n      <td>10001</td>\n      <td>d005</td>\n      <td>1986-06-26</td>\n      <td>9999-01-01</td>\n    </tr>\n    <tr>\n      <th>1</th>\n      <td>10002</td>\n      <td>d007</td>\n      <td>1996-08-03</td>\n      <td>9999-01-01</td>\n    </tr>\n    <tr>\n      <th>2</th>\n      <td>10003</td>\n      <td>d004</td>\n      <td>1995-12-03</td>\n      <td>9999-01-01</td>\n    </tr>\n    <tr>\n      <th>3</th>\n      <td>10004</td>\n      <td>d004</td>\n      <td>1986-12-01</td>\n      <td>9999-01-01</td>\n    </tr>\n    <tr>\n      <th>4</th>\n      <td>10005</td>\n      <td>d003</td>\n      <td>1989-09-12</td>\n      <td>9999-01-01</td>\n    </tr>\n    <tr>\n      <th>...</th>\n      <td>...</td>\n      <td>...</td>\n      <td>...</td>\n      <td>...</td>\n    </tr>\n    <tr>\n      <th>331598</th>\n      <td>499995</td>\n      <td>d004</td>\n      <td>1997-06-02</td>\n      <td>9999-01-01</td>\n    </tr>\n    <tr>\n      <th>331599</th>\n      <td>499996</td>\n      <td>d004</td>\n      <td>1996-05-13</td>\n      <td>9999-01-01</td>\n    </tr>\n    <tr>\n      <th>331600</th>\n      <td>499997</td>\n      <td>d005</td>\n      <td>1987-08-30</td>\n      <td>9999-01-01</td>\n    </tr>\n    <tr>\n      <th>331601</th>\n      <td>499998</td>\n      <td>d002</td>\n      <td>1993-12-27</td>\n      <td>9999-01-01</td>\n    </tr>\n    <tr>\n      <th>331602</th>\n      <td>499999</td>\n      <td>d004</td>\n      <td>1997-11-30</td>\n      <td>9999-01-01</td>\n    </tr>\n  </tbody>\n</table>\n<p>331603 rows × 4 columns</p>\n</div>"
     },
     "metadata": {},
     "execution_count": 4
    }
   ],
   "source": [
    "dept_emp_df = pd.read_csv(\"./analysis-projects/pewlett-hackard-analysis/data/dept_employees.csv\")\n",
    "dept_emp_df"
   ]
  },
  {
   "cell_type": "code",
   "execution_count": 5,
   "metadata": {},
   "outputs": [
    {
     "output_type": "execute_result",
     "data": {
      "text/plain": "   dept_no  emp_no   from_date     to_date\n0     d001  110022  1985-01-01  1991-10-01\n1     d001  110039  1991-10-01  9999-01-01\n2     d002  110085  1985-01-01  1989-12-17\n3     d002  110114  1989-12-17  9999-01-01\n4     d003  110183  1985-01-01  1992-03-21\n5     d003  110228  1992-03-21  9999-01-01\n6     d004  110303  1985-01-01  1988-09-09\n7     d004  110344  1988-09-09  1992-08-02\n8     d004  110386  1992-08-02  1996-08-30\n9     d004  110420  1996-08-30  9999-01-01\n10    d005  110511  1985-01-01  1992-04-25\n11    d005  110567  1992-04-25  9999-01-01\n12    d006  110725  1985-01-01  1989-05-06\n13    d006  110765  1989-05-06  1991-09-12\n14    d006  110800  1991-09-12  1994-06-28\n15    d006  110854  1994-06-28  9999-01-01\n16    d007  111035  1985-01-01  1991-03-07\n17    d007  111133  1991-03-07  9999-01-01\n18    d008  111400  1985-01-01  1991-04-08\n19    d008  111534  1991-04-08  9999-01-01\n20    d009  111692  1985-01-01  1988-10-17\n21    d009  111784  1988-10-17  1992-09-08\n22    d009  111877  1992-09-08  1996-01-03\n23    d009  111939  1996-01-03  9999-01-01",
      "text/html": "<div>\n<style scoped>\n    .dataframe tbody tr th:only-of-type {\n        vertical-align: middle;\n    }\n\n    .dataframe tbody tr th {\n        vertical-align: top;\n    }\n\n    .dataframe thead th {\n        text-align: right;\n    }\n</style>\n<table border=\"1\" class=\"dataframe\">\n  <thead>\n    <tr style=\"text-align: right;\">\n      <th></th>\n      <th>dept_no</th>\n      <th>emp_no</th>\n      <th>from_date</th>\n      <th>to_date</th>\n    </tr>\n  </thead>\n  <tbody>\n    <tr>\n      <th>0</th>\n      <td>d001</td>\n      <td>110022</td>\n      <td>1985-01-01</td>\n      <td>1991-10-01</td>\n    </tr>\n    <tr>\n      <th>1</th>\n      <td>d001</td>\n      <td>110039</td>\n      <td>1991-10-01</td>\n      <td>9999-01-01</td>\n    </tr>\n    <tr>\n      <th>2</th>\n      <td>d002</td>\n      <td>110085</td>\n      <td>1985-01-01</td>\n      <td>1989-12-17</td>\n    </tr>\n    <tr>\n      <th>3</th>\n      <td>d002</td>\n      <td>110114</td>\n      <td>1989-12-17</td>\n      <td>9999-01-01</td>\n    </tr>\n    <tr>\n      <th>4</th>\n      <td>d003</td>\n      <td>110183</td>\n      <td>1985-01-01</td>\n      <td>1992-03-21</td>\n    </tr>\n    <tr>\n      <th>5</th>\n      <td>d003</td>\n      <td>110228</td>\n      <td>1992-03-21</td>\n      <td>9999-01-01</td>\n    </tr>\n    <tr>\n      <th>6</th>\n      <td>d004</td>\n      <td>110303</td>\n      <td>1985-01-01</td>\n      <td>1988-09-09</td>\n    </tr>\n    <tr>\n      <th>7</th>\n      <td>d004</td>\n      <td>110344</td>\n      <td>1988-09-09</td>\n      <td>1992-08-02</td>\n    </tr>\n    <tr>\n      <th>8</th>\n      <td>d004</td>\n      <td>110386</td>\n      <td>1992-08-02</td>\n      <td>1996-08-30</td>\n    </tr>\n    <tr>\n      <th>9</th>\n      <td>d004</td>\n      <td>110420</td>\n      <td>1996-08-30</td>\n      <td>9999-01-01</td>\n    </tr>\n    <tr>\n      <th>10</th>\n      <td>d005</td>\n      <td>110511</td>\n      <td>1985-01-01</td>\n      <td>1992-04-25</td>\n    </tr>\n    <tr>\n      <th>11</th>\n      <td>d005</td>\n      <td>110567</td>\n      <td>1992-04-25</td>\n      <td>9999-01-01</td>\n    </tr>\n    <tr>\n      <th>12</th>\n      <td>d006</td>\n      <td>110725</td>\n      <td>1985-01-01</td>\n      <td>1989-05-06</td>\n    </tr>\n    <tr>\n      <th>13</th>\n      <td>d006</td>\n      <td>110765</td>\n      <td>1989-05-06</td>\n      <td>1991-09-12</td>\n    </tr>\n    <tr>\n      <th>14</th>\n      <td>d006</td>\n      <td>110800</td>\n      <td>1991-09-12</td>\n      <td>1994-06-28</td>\n    </tr>\n    <tr>\n      <th>15</th>\n      <td>d006</td>\n      <td>110854</td>\n      <td>1994-06-28</td>\n      <td>9999-01-01</td>\n    </tr>\n    <tr>\n      <th>16</th>\n      <td>d007</td>\n      <td>111035</td>\n      <td>1985-01-01</td>\n      <td>1991-03-07</td>\n    </tr>\n    <tr>\n      <th>17</th>\n      <td>d007</td>\n      <td>111133</td>\n      <td>1991-03-07</td>\n      <td>9999-01-01</td>\n    </tr>\n    <tr>\n      <th>18</th>\n      <td>d008</td>\n      <td>111400</td>\n      <td>1985-01-01</td>\n      <td>1991-04-08</td>\n    </tr>\n    <tr>\n      <th>19</th>\n      <td>d008</td>\n      <td>111534</td>\n      <td>1991-04-08</td>\n      <td>9999-01-01</td>\n    </tr>\n    <tr>\n      <th>20</th>\n      <td>d009</td>\n      <td>111692</td>\n      <td>1985-01-01</td>\n      <td>1988-10-17</td>\n    </tr>\n    <tr>\n      <th>21</th>\n      <td>d009</td>\n      <td>111784</td>\n      <td>1988-10-17</td>\n      <td>1992-09-08</td>\n    </tr>\n    <tr>\n      <th>22</th>\n      <td>d009</td>\n      <td>111877</td>\n      <td>1992-09-08</td>\n      <td>1996-01-03</td>\n    </tr>\n    <tr>\n      <th>23</th>\n      <td>d009</td>\n      <td>111939</td>\n      <td>1996-01-03</td>\n      <td>9999-01-01</td>\n    </tr>\n  </tbody>\n</table>\n</div>"
     },
     "metadata": {},
     "execution_count": 5
    }
   ],
   "source": [
    "dept_managers_df = pd.read_csv(\"./analysis-projects/pewlett-hackard-analysis/data/dept_manager.csv\")\n",
    "dept_managers_df"
   ]
  },
  {
   "cell_type": "code",
   "execution_count": 6,
   "metadata": {},
   "outputs": [
    {
     "output_type": "execute_result",
     "data": {
      "text/plain": "        emp_no  birth_date first_name last_name gender   hire_date\n0        10001  1953-09-02     Georgi   Facello      M  1986-06-26\n1        10002  1964-06-02    Bezalel    Simmel      F  1985-11-21\n2        10003  1959-12-03      Parto   Bamford      M  1986-08-28\n3        10004  1954-05-01  Chirstian   Koblick      M  1986-12-01\n4        10005  1955-01-21    Kyoichi  Maliniak      M  1989-09-12\n...        ...         ...        ...       ...    ...         ...\n300019  499995  1958-09-24     Dekang  Lichtner      F  1993-01-12\n300020  499996  1953-03-07       Zito      Baaz      M  1990-09-27\n300021  499997  1961-08-03    Berhard    Lenart      M  1986-04-21\n300022  499998  1956-09-05   Patricia   Breugel      M  1993-10-13\n300023  499999  1958-05-01     Sachin   Tsukuda      M  1997-11-30\n\n[300024 rows x 6 columns]",
      "text/html": "<div>\n<style scoped>\n    .dataframe tbody tr th:only-of-type {\n        vertical-align: middle;\n    }\n\n    .dataframe tbody tr th {\n        vertical-align: top;\n    }\n\n    .dataframe thead th {\n        text-align: right;\n    }\n</style>\n<table border=\"1\" class=\"dataframe\">\n  <thead>\n    <tr style=\"text-align: right;\">\n      <th></th>\n      <th>emp_no</th>\n      <th>birth_date</th>\n      <th>first_name</th>\n      <th>last_name</th>\n      <th>gender</th>\n      <th>hire_date</th>\n    </tr>\n  </thead>\n  <tbody>\n    <tr>\n      <th>0</th>\n      <td>10001</td>\n      <td>1953-09-02</td>\n      <td>Georgi</td>\n      <td>Facello</td>\n      <td>M</td>\n      <td>1986-06-26</td>\n    </tr>\n    <tr>\n      <th>1</th>\n      <td>10002</td>\n      <td>1964-06-02</td>\n      <td>Bezalel</td>\n      <td>Simmel</td>\n      <td>F</td>\n      <td>1985-11-21</td>\n    </tr>\n    <tr>\n      <th>2</th>\n      <td>10003</td>\n      <td>1959-12-03</td>\n      <td>Parto</td>\n      <td>Bamford</td>\n      <td>M</td>\n      <td>1986-08-28</td>\n    </tr>\n    <tr>\n      <th>3</th>\n      <td>10004</td>\n      <td>1954-05-01</td>\n      <td>Chirstian</td>\n      <td>Koblick</td>\n      <td>M</td>\n      <td>1986-12-01</td>\n    </tr>\n    <tr>\n      <th>4</th>\n      <td>10005</td>\n      <td>1955-01-21</td>\n      <td>Kyoichi</td>\n      <td>Maliniak</td>\n      <td>M</td>\n      <td>1989-09-12</td>\n    </tr>\n    <tr>\n      <th>...</th>\n      <td>...</td>\n      <td>...</td>\n      <td>...</td>\n      <td>...</td>\n      <td>...</td>\n      <td>...</td>\n    </tr>\n    <tr>\n      <th>300019</th>\n      <td>499995</td>\n      <td>1958-09-24</td>\n      <td>Dekang</td>\n      <td>Lichtner</td>\n      <td>F</td>\n      <td>1993-01-12</td>\n    </tr>\n    <tr>\n      <th>300020</th>\n      <td>499996</td>\n      <td>1953-03-07</td>\n      <td>Zito</td>\n      <td>Baaz</td>\n      <td>M</td>\n      <td>1990-09-27</td>\n    </tr>\n    <tr>\n      <th>300021</th>\n      <td>499997</td>\n      <td>1961-08-03</td>\n      <td>Berhard</td>\n      <td>Lenart</td>\n      <td>M</td>\n      <td>1986-04-21</td>\n    </tr>\n    <tr>\n      <th>300022</th>\n      <td>499998</td>\n      <td>1956-09-05</td>\n      <td>Patricia</td>\n      <td>Breugel</td>\n      <td>M</td>\n      <td>1993-10-13</td>\n    </tr>\n    <tr>\n      <th>300023</th>\n      <td>499999</td>\n      <td>1958-05-01</td>\n      <td>Sachin</td>\n      <td>Tsukuda</td>\n      <td>M</td>\n      <td>1997-11-30</td>\n    </tr>\n  </tbody>\n</table>\n<p>300024 rows × 6 columns</p>\n</div>"
     },
     "metadata": {},
     "execution_count": 6
    }
   ],
   "source": [
    "employees_df = pd.read_csv(\"./analysis-projects/pewlett-hackard-analysis/data/employees.csv\")\n",
    "employees_df"
   ]
  },
  {
   "cell_type": "code",
   "execution_count": 7,
   "metadata": {},
   "outputs": [
    {
     "output_type": "execute_result",
     "data": {
      "text/plain": "        emp_no  salary   from_date     to_date\n0        10001   60117  1986-06-26  1987-06-26\n1        10002   65828  1996-08-03  1997-08-03\n2        10003   40006  1995-12-03  1996-12-02\n3        10004   40054  1986-12-01  1987-12-01\n4        10005   78228  1989-09-12  1990-09-12\n...        ...     ...         ...         ...\n300019  499995   40000  1997-06-02  1998-06-02\n300020  499996   58058  1996-05-13  1997-05-13\n300021  499997   49597  1987-08-30  1988-08-29\n300022  499998   40000  1993-12-27  1994-12-27\n300023  499999   63707  1997-11-30  1998-11-30\n\n[300024 rows x 4 columns]",
      "text/html": "<div>\n<style scoped>\n    .dataframe tbody tr th:only-of-type {\n        vertical-align: middle;\n    }\n\n    .dataframe tbody tr th {\n        vertical-align: top;\n    }\n\n    .dataframe thead th {\n        text-align: right;\n    }\n</style>\n<table border=\"1\" class=\"dataframe\">\n  <thead>\n    <tr style=\"text-align: right;\">\n      <th></th>\n      <th>emp_no</th>\n      <th>salary</th>\n      <th>from_date</th>\n      <th>to_date</th>\n    </tr>\n  </thead>\n  <tbody>\n    <tr>\n      <th>0</th>\n      <td>10001</td>\n      <td>60117</td>\n      <td>1986-06-26</td>\n      <td>1987-06-26</td>\n    </tr>\n    <tr>\n      <th>1</th>\n      <td>10002</td>\n      <td>65828</td>\n      <td>1996-08-03</td>\n      <td>1997-08-03</td>\n    </tr>\n    <tr>\n      <th>2</th>\n      <td>10003</td>\n      <td>40006</td>\n      <td>1995-12-03</td>\n      <td>1996-12-02</td>\n    </tr>\n    <tr>\n      <th>3</th>\n      <td>10004</td>\n      <td>40054</td>\n      <td>1986-12-01</td>\n      <td>1987-12-01</td>\n    </tr>\n    <tr>\n      <th>4</th>\n      <td>10005</td>\n      <td>78228</td>\n      <td>1989-09-12</td>\n      <td>1990-09-12</td>\n    </tr>\n    <tr>\n      <th>...</th>\n      <td>...</td>\n      <td>...</td>\n      <td>...</td>\n      <td>...</td>\n    </tr>\n    <tr>\n      <th>300019</th>\n      <td>499995</td>\n      <td>40000</td>\n      <td>1997-06-02</td>\n      <td>1998-06-02</td>\n    </tr>\n    <tr>\n      <th>300020</th>\n      <td>499996</td>\n      <td>58058</td>\n      <td>1996-05-13</td>\n      <td>1997-05-13</td>\n    </tr>\n    <tr>\n      <th>300021</th>\n      <td>499997</td>\n      <td>49597</td>\n      <td>1987-08-30</td>\n      <td>1988-08-29</td>\n    </tr>\n    <tr>\n      <th>300022</th>\n      <td>499998</td>\n      <td>40000</td>\n      <td>1993-12-27</td>\n      <td>1994-12-27</td>\n    </tr>\n    <tr>\n      <th>300023</th>\n      <td>499999</td>\n      <td>63707</td>\n      <td>1997-11-30</td>\n      <td>1998-11-30</td>\n    </tr>\n  </tbody>\n</table>\n<p>300024 rows × 4 columns</p>\n</div>"
     },
     "metadata": {},
     "execution_count": 7
    }
   ],
   "source": [
    "salaries_df = pd.read_csv(\"./analysis-projects/pewlett-hackard-analysis/data/salaries.csv\")\n",
    "salaries_df"
   ]
  },
  {
   "cell_type": "code",
   "execution_count": 8,
   "metadata": {},
   "outputs": [
    {
     "output_type": "execute_result",
     "data": {
      "text/plain": "        emp_no            title   from_date     to_date\n0        10001  Senior Engineer  1986-06-26  9999-01-01\n1        10002            Staff  1996-08-03  9999-01-01\n2        10003  Senior Engineer  1995-12-03  9999-01-01\n3        10004         Engineer  1986-12-01  1995-12-01\n4        10004  Senior Engineer  1995-12-01  9999-01-01\n...        ...              ...         ...         ...\n443303  499997         Engineer  1987-08-30  1992-08-29\n443304  499997  Senior Engineer  1992-08-29  9999-01-01\n443305  499998     Senior Staff  1998-12-27  9999-01-01\n443306  499998            Staff  1993-12-27  1998-12-27\n443307  499999         Engineer  1997-11-30  9999-01-01\n\n[443308 rows x 4 columns]",
      "text/html": "<div>\n<style scoped>\n    .dataframe tbody tr th:only-of-type {\n        vertical-align: middle;\n    }\n\n    .dataframe tbody tr th {\n        vertical-align: top;\n    }\n\n    .dataframe thead th {\n        text-align: right;\n    }\n</style>\n<table border=\"1\" class=\"dataframe\">\n  <thead>\n    <tr style=\"text-align: right;\">\n      <th></th>\n      <th>emp_no</th>\n      <th>title</th>\n      <th>from_date</th>\n      <th>to_date</th>\n    </tr>\n  </thead>\n  <tbody>\n    <tr>\n      <th>0</th>\n      <td>10001</td>\n      <td>Senior Engineer</td>\n      <td>1986-06-26</td>\n      <td>9999-01-01</td>\n    </tr>\n    <tr>\n      <th>1</th>\n      <td>10002</td>\n      <td>Staff</td>\n      <td>1996-08-03</td>\n      <td>9999-01-01</td>\n    </tr>\n    <tr>\n      <th>2</th>\n      <td>10003</td>\n      <td>Senior Engineer</td>\n      <td>1995-12-03</td>\n      <td>9999-01-01</td>\n    </tr>\n    <tr>\n      <th>3</th>\n      <td>10004</td>\n      <td>Engineer</td>\n      <td>1986-12-01</td>\n      <td>1995-12-01</td>\n    </tr>\n    <tr>\n      <th>4</th>\n      <td>10004</td>\n      <td>Senior Engineer</td>\n      <td>1995-12-01</td>\n      <td>9999-01-01</td>\n    </tr>\n    <tr>\n      <th>...</th>\n      <td>...</td>\n      <td>...</td>\n      <td>...</td>\n      <td>...</td>\n    </tr>\n    <tr>\n      <th>443303</th>\n      <td>499997</td>\n      <td>Engineer</td>\n      <td>1987-08-30</td>\n      <td>1992-08-29</td>\n    </tr>\n    <tr>\n      <th>443304</th>\n      <td>499997</td>\n      <td>Senior Engineer</td>\n      <td>1992-08-29</td>\n      <td>9999-01-01</td>\n    </tr>\n    <tr>\n      <th>443305</th>\n      <td>499998</td>\n      <td>Senior Staff</td>\n      <td>1998-12-27</td>\n      <td>9999-01-01</td>\n    </tr>\n    <tr>\n      <th>443306</th>\n      <td>499998</td>\n      <td>Staff</td>\n      <td>1993-12-27</td>\n      <td>1998-12-27</td>\n    </tr>\n    <tr>\n      <th>443307</th>\n      <td>499999</td>\n      <td>Engineer</td>\n      <td>1997-11-30</td>\n      <td>9999-01-01</td>\n    </tr>\n  </tbody>\n</table>\n<p>443308 rows × 4 columns</p>\n</div>"
     },
     "metadata": {},
     "execution_count": 8
    }
   ],
   "source": [
    "titles_df = pd.read_csv(\"./analysis-projects/pewlett-hackard-analysis/data/titles.csv\")\n",
    "titles_df"
   ]
  },
  {
   "cell_type": "code",
   "execution_count": 9,
   "metadata": {},
   "outputs": [],
   "source": [
    "# from config import database_secrets\n",
    "# SQL Alchemy\n",
    "# from sqlalchemy import create_engine\n",
    "\n",
    "# Config file format:\n",
    "# Postgres username, password, and database name\n",
    "# Finding the connection info, in the terminal jump to psql and run \\conninfo\n",
    "# POSTGRES_ADDRESS = 'localhost' ## INSERT YOUR DB ADDRESS IS LOCALHOST\n",
    "# POSTGRES_PORT = '' ## PORT NUMBER\n",
    "# POSTGRES_USERNAME = ''     ## CHANGE THIS TO YOUR POSTGRES USERNAME\n",
    "# POSTGRES_PASSWORD = '' ## CHANGE THIS TO YOUR POSTGRES PASSWORD\n",
    "# POSTGRES_DBNAME = '' ## CHANGE THIS TO YOUR DATABASE NAME\n",
    "\n",
    "# A long string that contains the necessary Postgres login information\n",
    "# postgres_str = ('postgresql://{username}:{password}@{ipaddress}:{port}/{dbname}'.format(username=POSTGRES_USERNAME, \n",
    "#                        password=POSTGRES_PASSWORD,\n",
    "#                        ipaddress=POSTGRES_ADDRESS,\n",
    "#                        port=POSTGRES_PORT,\n",
    "#                        dbname=POSTGRES_DBNAME))\n",
    "\n",
    "# Create the connection\n",
    "# cnx = create_engine(postgres_str)"
   ]
  },
  {
   "cell_type": "code",
   "execution_count": 10,
   "metadata": {},
   "outputs": [],
   "source": [
    "# Pandas Connections to Postgres\n",
    "# employees_data = pd.read_sql(\"SELECT * FROM Employees\", cnx)\n",
    "# salary_data = pd.read_sql(\"SELECT * FROM Salaries\", cnx)\n",
    "# title_data = pd.read_sql(\"SELECT * FROM Titles\", cnx)"
   ]
  },
  {
   "cell_type": "code",
   "execution_count": 11,
   "metadata": {},
   "outputs": [
    {
     "output_type": "execute_result",
     "data": {
      "text/plain": "      first_name  last_name\n0         Georgi    Facello\n1      Chirstian    Koblick\n2         Sumant       Peac\n3       Kazuhide       Peha\n4          Alain  Chappelet\n...          ...        ...\n41375     Haldun     Zaumen\n41376      Yolla      Auria\n41377    Mihalis   Crabtree\n41378   Mohammed   Pleszkun\n41379     Nathan      Ranta\n\n[41380 rows x 2 columns]",
      "text/html": "<div>\n<style scoped>\n    .dataframe tbody tr th:only-of-type {\n        vertical-align: middle;\n    }\n\n    .dataframe tbody tr th {\n        vertical-align: top;\n    }\n\n    .dataframe thead th {\n        text-align: right;\n    }\n</style>\n<table border=\"1\" class=\"dataframe\">\n  <thead>\n    <tr style=\"text-align: right;\">\n      <th></th>\n      <th>first_name</th>\n      <th>last_name</th>\n    </tr>\n  </thead>\n  <tbody>\n    <tr>\n      <th>0</th>\n      <td>Georgi</td>\n      <td>Facello</td>\n    </tr>\n    <tr>\n      <th>1</th>\n      <td>Chirstian</td>\n      <td>Koblick</td>\n    </tr>\n    <tr>\n      <th>2</th>\n      <td>Sumant</td>\n      <td>Peac</td>\n    </tr>\n    <tr>\n      <th>3</th>\n      <td>Kazuhide</td>\n      <td>Peha</td>\n    </tr>\n    <tr>\n      <th>4</th>\n      <td>Alain</td>\n      <td>Chappelet</td>\n    </tr>\n    <tr>\n      <th>...</th>\n      <td>...</td>\n      <td>...</td>\n    </tr>\n    <tr>\n      <th>41375</th>\n      <td>Haldun</td>\n      <td>Zaumen</td>\n    </tr>\n    <tr>\n      <th>41376</th>\n      <td>Yolla</td>\n      <td>Auria</td>\n    </tr>\n    <tr>\n      <th>41377</th>\n      <td>Mihalis</td>\n      <td>Crabtree</td>\n    </tr>\n    <tr>\n      <th>41378</th>\n      <td>Mohammed</td>\n      <td>Pleszkun</td>\n    </tr>\n    <tr>\n      <th>41379</th>\n      <td>Nathan</td>\n      <td>Ranta</td>\n    </tr>\n  </tbody>\n</table>\n<p>41380 rows × 2 columns</p>\n</div>"
     },
     "metadata": {},
     "execution_count": 11
    }
   ],
   "source": [
    "retirement_info_df = pd.read_csv(\"./analysis-projects/pewlett-hackard-analysis/data/retirement_info.csv\")\n",
    "retirement_info_df"
   ]
  },
  {
   "cell_type": "code",
   "execution_count": 12,
   "metadata": {},
   "outputs": [
    {
     "output_type": "execute_result",
     "data": {
      "text/plain": "        emp_no first_name  last_name            title   from_date     to_date\n0        10001     Georgi    Facello  Senior Engineer  1986-06-26  9999-01-01\n1        10004  Chirstian    Koblick         Engineer  1986-12-01  1995-12-01\n2        10004  Chirstian    Koblick  Senior Engineer  1995-12-01  9999-01-01\n3        10005    Kyoichi   Maliniak     Senior Staff  1996-09-12  9999-01-01\n4        10005    Kyoichi   Maliniak            Staff  1989-09-12  1996-09-12\n...        ...        ...        ...              ...         ...         ...\n133771  499986     Nathan      Ranta            Staff  1985-08-11  1992-08-11\n133772  499989  Keiichiro  Lindqvist     Senior Staff  1996-10-29  2001-03-07\n133773  499994      Navin    Argence         Engineer  1993-02-22  1993-10-27\n133774  499996       Zito       Baaz         Engineer  1996-05-13  2002-05-13\n133775  499996       Zito       Baaz  Senior Engineer  2002-05-13  9999-01-01\n\n[133776 rows x 6 columns]",
      "text/html": "<div>\n<style scoped>\n    .dataframe tbody tr th:only-of-type {\n        vertical-align: middle;\n    }\n\n    .dataframe tbody tr th {\n        vertical-align: top;\n    }\n\n    .dataframe thead th {\n        text-align: right;\n    }\n</style>\n<table border=\"1\" class=\"dataframe\">\n  <thead>\n    <tr style=\"text-align: right;\">\n      <th></th>\n      <th>emp_no</th>\n      <th>first_name</th>\n      <th>last_name</th>\n      <th>title</th>\n      <th>from_date</th>\n      <th>to_date</th>\n    </tr>\n  </thead>\n  <tbody>\n    <tr>\n      <th>0</th>\n      <td>10001</td>\n      <td>Georgi</td>\n      <td>Facello</td>\n      <td>Senior Engineer</td>\n      <td>1986-06-26</td>\n      <td>9999-01-01</td>\n    </tr>\n    <tr>\n      <th>1</th>\n      <td>10004</td>\n      <td>Chirstian</td>\n      <td>Koblick</td>\n      <td>Engineer</td>\n      <td>1986-12-01</td>\n      <td>1995-12-01</td>\n    </tr>\n    <tr>\n      <th>2</th>\n      <td>10004</td>\n      <td>Chirstian</td>\n      <td>Koblick</td>\n      <td>Senior Engineer</td>\n      <td>1995-12-01</td>\n      <td>9999-01-01</td>\n    </tr>\n    <tr>\n      <th>3</th>\n      <td>10005</td>\n      <td>Kyoichi</td>\n      <td>Maliniak</td>\n      <td>Senior Staff</td>\n      <td>1996-09-12</td>\n      <td>9999-01-01</td>\n    </tr>\n    <tr>\n      <th>4</th>\n      <td>10005</td>\n      <td>Kyoichi</td>\n      <td>Maliniak</td>\n      <td>Staff</td>\n      <td>1989-09-12</td>\n      <td>1996-09-12</td>\n    </tr>\n    <tr>\n      <th>...</th>\n      <td>...</td>\n      <td>...</td>\n      <td>...</td>\n      <td>...</td>\n      <td>...</td>\n      <td>...</td>\n    </tr>\n    <tr>\n      <th>133771</th>\n      <td>499986</td>\n      <td>Nathan</td>\n      <td>Ranta</td>\n      <td>Staff</td>\n      <td>1985-08-11</td>\n      <td>1992-08-11</td>\n    </tr>\n    <tr>\n      <th>133772</th>\n      <td>499989</td>\n      <td>Keiichiro</td>\n      <td>Lindqvist</td>\n      <td>Senior Staff</td>\n      <td>1996-10-29</td>\n      <td>2001-03-07</td>\n    </tr>\n    <tr>\n      <th>133773</th>\n      <td>499994</td>\n      <td>Navin</td>\n      <td>Argence</td>\n      <td>Engineer</td>\n      <td>1993-02-22</td>\n      <td>1993-10-27</td>\n    </tr>\n    <tr>\n      <th>133774</th>\n      <td>499996</td>\n      <td>Zito</td>\n      <td>Baaz</td>\n      <td>Engineer</td>\n      <td>1996-05-13</td>\n      <td>2002-05-13</td>\n    </tr>\n    <tr>\n      <th>133775</th>\n      <td>499996</td>\n      <td>Zito</td>\n      <td>Baaz</td>\n      <td>Senior Engineer</td>\n      <td>2002-05-13</td>\n      <td>9999-01-01</td>\n    </tr>\n  </tbody>\n</table>\n<p>133776 rows × 6 columns</p>\n</div>"
     },
     "metadata": {},
     "execution_count": 12
    }
   ],
   "source": [
    "retirement_titles_df = pd.read_csv(\"./analysis-projects/pewlett-hackard-analysis/data/retirement_titles.csv\")\n",
    "retirement_titles_df"
   ]
  },
  {
   "cell_type": "code",
   "execution_count": 13,
   "metadata": {},
   "outputs": [
    {
     "output_type": "execute_result",
     "data": {
      "text/plain": "        emp_no first_name  last_name            title   from_date     to_date\n0        10001     Georgi    Facello  Senior Engineer  1986-06-26  9999-01-01\n1        10004  Chirstian    Koblick         Engineer  1986-12-01  1995-12-01\n2        10004  Chirstian    Koblick  Senior Engineer  1995-12-01  9999-01-01\n3        10005    Kyoichi   Maliniak     Senior Staff  1996-09-12  9999-01-01\n4        10005    Kyoichi   Maliniak            Staff  1989-09-12  1996-09-12\n...        ...        ...        ...              ...         ...         ...\n133771  499986     Nathan      Ranta            Staff  1985-08-11  1992-08-11\n133772  499989  Keiichiro  Lindqvist     Senior Staff  1996-10-29  2001-03-07\n133773  499994      Navin    Argence         Engineer  1993-02-22  1993-10-27\n133774  499996       Zito       Baaz         Engineer  1996-05-13  2002-05-13\n133775  499996       Zito       Baaz  Senior Engineer  2002-05-13  9999-01-01\n\n[133776 rows x 6 columns]",
      "text/html": "<div>\n<style scoped>\n    .dataframe tbody tr th:only-of-type {\n        vertical-align: middle;\n    }\n\n    .dataframe tbody tr th {\n        vertical-align: top;\n    }\n\n    .dataframe thead th {\n        text-align: right;\n    }\n</style>\n<table border=\"1\" class=\"dataframe\">\n  <thead>\n    <tr style=\"text-align: right;\">\n      <th></th>\n      <th>emp_no</th>\n      <th>first_name</th>\n      <th>last_name</th>\n      <th>title</th>\n      <th>from_date</th>\n      <th>to_date</th>\n    </tr>\n  </thead>\n  <tbody>\n    <tr>\n      <th>0</th>\n      <td>10001</td>\n      <td>Georgi</td>\n      <td>Facello</td>\n      <td>Senior Engineer</td>\n      <td>1986-06-26</td>\n      <td>9999-01-01</td>\n    </tr>\n    <tr>\n      <th>1</th>\n      <td>10004</td>\n      <td>Chirstian</td>\n      <td>Koblick</td>\n      <td>Engineer</td>\n      <td>1986-12-01</td>\n      <td>1995-12-01</td>\n    </tr>\n    <tr>\n      <th>2</th>\n      <td>10004</td>\n      <td>Chirstian</td>\n      <td>Koblick</td>\n      <td>Senior Engineer</td>\n      <td>1995-12-01</td>\n      <td>9999-01-01</td>\n    </tr>\n    <tr>\n      <th>3</th>\n      <td>10005</td>\n      <td>Kyoichi</td>\n      <td>Maliniak</td>\n      <td>Senior Staff</td>\n      <td>1996-09-12</td>\n      <td>9999-01-01</td>\n    </tr>\n    <tr>\n      <th>4</th>\n      <td>10005</td>\n      <td>Kyoichi</td>\n      <td>Maliniak</td>\n      <td>Staff</td>\n      <td>1989-09-12</td>\n      <td>1996-09-12</td>\n    </tr>\n    <tr>\n      <th>...</th>\n      <td>...</td>\n      <td>...</td>\n      <td>...</td>\n      <td>...</td>\n      <td>...</td>\n      <td>...</td>\n    </tr>\n    <tr>\n      <th>133771</th>\n      <td>499986</td>\n      <td>Nathan</td>\n      <td>Ranta</td>\n      <td>Staff</td>\n      <td>1985-08-11</td>\n      <td>1992-08-11</td>\n    </tr>\n    <tr>\n      <th>133772</th>\n      <td>499989</td>\n      <td>Keiichiro</td>\n      <td>Lindqvist</td>\n      <td>Senior Staff</td>\n      <td>1996-10-29</td>\n      <td>2001-03-07</td>\n    </tr>\n    <tr>\n      <th>133773</th>\n      <td>499994</td>\n      <td>Navin</td>\n      <td>Argence</td>\n      <td>Engineer</td>\n      <td>1993-02-22</td>\n      <td>1993-10-27</td>\n    </tr>\n    <tr>\n      <th>133774</th>\n      <td>499996</td>\n      <td>Zito</td>\n      <td>Baaz</td>\n      <td>Engineer</td>\n      <td>1996-05-13</td>\n      <td>2002-05-13</td>\n    </tr>\n    <tr>\n      <th>133775</th>\n      <td>499996</td>\n      <td>Zito</td>\n      <td>Baaz</td>\n      <td>Senior Engineer</td>\n      <td>2002-05-13</td>\n      <td>9999-01-01</td>\n    </tr>\n  </tbody>\n</table>\n<p>133776 rows × 6 columns</p>\n</div>"
     },
     "metadata": {},
     "execution_count": 13
    }
   ],
   "source": [
    "retiring_titles_df = pd.read_csv(\"./analysis-projects/pewlett-hackard-analysis/data/retiring_titles.csv\")\n",
    "retiring_titles_df"
   ]
  },
  {
   "cell_type": "code",
   "execution_count": 14,
   "metadata": {},
   "outputs": [
    {
     "output_type": "execute_result",
     "data": {
      "text/plain": "       emp_no first_name  last_name            title\n0       10001     Georgi    Facello  Senior Engineer\n1       10004  Chirstian    Koblick  Senior Engineer\n2       10005    Kyoichi   Maliniak     Senior Staff\n3       10006     Anneke    Preusig  Senior Engineer\n4       10009     Sumant       Peac  Senior Engineer\n...       ...        ...        ...              ...\n90393  499983        Uri     Juneja     Senior Staff\n90394  499986     Nathan      Ranta     Senior Staff\n90395  499989  Keiichiro  Lindqvist     Senior Staff\n90396  499994      Navin    Argence         Engineer\n90397  499996       Zito       Baaz  Senior Engineer\n\n[90398 rows x 4 columns]",
      "text/html": "<div>\n<style scoped>\n    .dataframe tbody tr th:only-of-type {\n        vertical-align: middle;\n    }\n\n    .dataframe tbody tr th {\n        vertical-align: top;\n    }\n\n    .dataframe thead th {\n        text-align: right;\n    }\n</style>\n<table border=\"1\" class=\"dataframe\">\n  <thead>\n    <tr style=\"text-align: right;\">\n      <th></th>\n      <th>emp_no</th>\n      <th>first_name</th>\n      <th>last_name</th>\n      <th>title</th>\n    </tr>\n  </thead>\n  <tbody>\n    <tr>\n      <th>0</th>\n      <td>10001</td>\n      <td>Georgi</td>\n      <td>Facello</td>\n      <td>Senior Engineer</td>\n    </tr>\n    <tr>\n      <th>1</th>\n      <td>10004</td>\n      <td>Chirstian</td>\n      <td>Koblick</td>\n      <td>Senior Engineer</td>\n    </tr>\n    <tr>\n      <th>2</th>\n      <td>10005</td>\n      <td>Kyoichi</td>\n      <td>Maliniak</td>\n      <td>Senior Staff</td>\n    </tr>\n    <tr>\n      <th>3</th>\n      <td>10006</td>\n      <td>Anneke</td>\n      <td>Preusig</td>\n      <td>Senior Engineer</td>\n    </tr>\n    <tr>\n      <th>4</th>\n      <td>10009</td>\n      <td>Sumant</td>\n      <td>Peac</td>\n      <td>Senior Engineer</td>\n    </tr>\n    <tr>\n      <th>...</th>\n      <td>...</td>\n      <td>...</td>\n      <td>...</td>\n      <td>...</td>\n    </tr>\n    <tr>\n      <th>90393</th>\n      <td>499983</td>\n      <td>Uri</td>\n      <td>Juneja</td>\n      <td>Senior Staff</td>\n    </tr>\n    <tr>\n      <th>90394</th>\n      <td>499986</td>\n      <td>Nathan</td>\n      <td>Ranta</td>\n      <td>Senior Staff</td>\n    </tr>\n    <tr>\n      <th>90395</th>\n      <td>499989</td>\n      <td>Keiichiro</td>\n      <td>Lindqvist</td>\n      <td>Senior Staff</td>\n    </tr>\n    <tr>\n      <th>90396</th>\n      <td>499994</td>\n      <td>Navin</td>\n      <td>Argence</td>\n      <td>Engineer</td>\n    </tr>\n    <tr>\n      <th>90397</th>\n      <td>499996</td>\n      <td>Zito</td>\n      <td>Baaz</td>\n      <td>Senior Engineer</td>\n    </tr>\n  </tbody>\n</table>\n<p>90398 rows × 4 columns</p>\n</div>"
     },
     "metadata": {},
     "execution_count": 14
    }
   ],
   "source": [
    "unique_titles_df = pd.read_csv(\"./analysis-projects/pewlett-hackard-analysis/data/unique_titles.csv\")\n",
    "unique_titles_df"
   ]
  },
  {
   "cell_type": "code",
   "execution_count": 15,
   "metadata": {},
   "outputs": [
    {
     "output_type": "execute_result",
     "data": {
      "text/plain": "      emp_no first_name    last_name  birth_date   from_date     to_date  \\\n0      10095     Hilari       Morton  1965-01-03  1994-03-10  9999-01-01   \n1      10122       Ohad     Esposito  1965-01-19  1998-08-06  9999-01-01   \n2      10291    Dipayan  Seghrouchni  1965-01-23  1987-03-30  9999-01-01   \n3      10476      Kokou       Iisaka  1965-01-01  1987-09-20  9999-01-01   \n4      10663     Teunis      Noriega  1965-01-09  1999-02-12  9999-01-01   \n...      ...        ...          ...         ...         ...         ...   \n1544  498845   Arumugam         Pelc  1965-01-09  1999-11-13  9999-01-01   \n1545  498955    Nechama      Kandlur  1965-01-13  1995-01-16  9999-01-01   \n1546  499194      Padma    Delgrange  1965-01-29  1999-08-27  9999-01-01   \n1547  499260      Danae      Honglei  1965-01-11  1998-09-14  9999-01-01   \n1548  499495     Baoqiu       Kakkar  1965-01-14  1999-08-30  9999-01-01   \n\n                 title  \n0         Senior Staff  \n1     Technique Leader  \n2         Senior Staff  \n3         Senior Staff  \n4     Technique Leader  \n...                ...  \n1544   Senior Engineer  \n1545   Senior Engineer  \n1546      Senior Staff  \n1547          Engineer  \n1548          Engineer  \n\n[1549 rows x 7 columns]",
      "text/html": "<div>\n<style scoped>\n    .dataframe tbody tr th:only-of-type {\n        vertical-align: middle;\n    }\n\n    .dataframe tbody tr th {\n        vertical-align: top;\n    }\n\n    .dataframe thead th {\n        text-align: right;\n    }\n</style>\n<table border=\"1\" class=\"dataframe\">\n  <thead>\n    <tr style=\"text-align: right;\">\n      <th></th>\n      <th>emp_no</th>\n      <th>first_name</th>\n      <th>last_name</th>\n      <th>birth_date</th>\n      <th>from_date</th>\n      <th>to_date</th>\n      <th>title</th>\n    </tr>\n  </thead>\n  <tbody>\n    <tr>\n      <th>0</th>\n      <td>10095</td>\n      <td>Hilari</td>\n      <td>Morton</td>\n      <td>1965-01-03</td>\n      <td>1994-03-10</td>\n      <td>9999-01-01</td>\n      <td>Senior Staff</td>\n    </tr>\n    <tr>\n      <th>1</th>\n      <td>10122</td>\n      <td>Ohad</td>\n      <td>Esposito</td>\n      <td>1965-01-19</td>\n      <td>1998-08-06</td>\n      <td>9999-01-01</td>\n      <td>Technique Leader</td>\n    </tr>\n    <tr>\n      <th>2</th>\n      <td>10291</td>\n      <td>Dipayan</td>\n      <td>Seghrouchni</td>\n      <td>1965-01-23</td>\n      <td>1987-03-30</td>\n      <td>9999-01-01</td>\n      <td>Senior Staff</td>\n    </tr>\n    <tr>\n      <th>3</th>\n      <td>10476</td>\n      <td>Kokou</td>\n      <td>Iisaka</td>\n      <td>1965-01-01</td>\n      <td>1987-09-20</td>\n      <td>9999-01-01</td>\n      <td>Senior Staff</td>\n    </tr>\n    <tr>\n      <th>4</th>\n      <td>10663</td>\n      <td>Teunis</td>\n      <td>Noriega</td>\n      <td>1965-01-09</td>\n      <td>1999-02-12</td>\n      <td>9999-01-01</td>\n      <td>Technique Leader</td>\n    </tr>\n    <tr>\n      <th>...</th>\n      <td>...</td>\n      <td>...</td>\n      <td>...</td>\n      <td>...</td>\n      <td>...</td>\n      <td>...</td>\n      <td>...</td>\n    </tr>\n    <tr>\n      <th>1544</th>\n      <td>498845</td>\n      <td>Arumugam</td>\n      <td>Pelc</td>\n      <td>1965-01-09</td>\n      <td>1999-11-13</td>\n      <td>9999-01-01</td>\n      <td>Senior Engineer</td>\n    </tr>\n    <tr>\n      <th>1545</th>\n      <td>498955</td>\n      <td>Nechama</td>\n      <td>Kandlur</td>\n      <td>1965-01-13</td>\n      <td>1995-01-16</td>\n      <td>9999-01-01</td>\n      <td>Senior Engineer</td>\n    </tr>\n    <tr>\n      <th>1546</th>\n      <td>499194</td>\n      <td>Padma</td>\n      <td>Delgrange</td>\n      <td>1965-01-29</td>\n      <td>1999-08-27</td>\n      <td>9999-01-01</td>\n      <td>Senior Staff</td>\n    </tr>\n    <tr>\n      <th>1547</th>\n      <td>499260</td>\n      <td>Danae</td>\n      <td>Honglei</td>\n      <td>1965-01-11</td>\n      <td>1998-09-14</td>\n      <td>9999-01-01</td>\n      <td>Engineer</td>\n    </tr>\n    <tr>\n      <th>1548</th>\n      <td>499495</td>\n      <td>Baoqiu</td>\n      <td>Kakkar</td>\n      <td>1965-01-14</td>\n      <td>1999-08-30</td>\n      <td>9999-01-01</td>\n      <td>Engineer</td>\n    </tr>\n  </tbody>\n</table>\n<p>1549 rows × 7 columns</p>\n</div>"
     },
     "metadata": {},
     "execution_count": 15
    }
   ],
   "source": [
    "mentorship_eligibilty_df = pd.read_csv(\"./analysis-projects/pewlett-hackard-analysis/data/mentorship_eligibilty.csv\")\n",
    "mentorship_eligibilty_df"
   ]
  }
 ]
}